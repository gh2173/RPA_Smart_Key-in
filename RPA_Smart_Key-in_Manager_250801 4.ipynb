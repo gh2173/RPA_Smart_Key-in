{
 "cells": [
  {
   "cell_type": "code",
   "execution_count": null,
   "id": "2abcc392",
   "metadata": {},
   "outputs": [],
   "source": "import sys\nfrom PyQt5 import QtWidgets, uic, QtGui, QtCore\nfrom PyQt5.QtWidgets import QTableWidget, QTableWidgetItem, QHeaderView, QLabel, QMessageBox, QDialog, QVBoxLayout, QHBoxLayout, QLineEdit, QTextEdit, QDialogButtonBox\nfrom PyQt5.QtWidgets import QPushButton, QGraphicsDropShadowEffect, QProgressDialog\nfrom PyQt5.QtGui import QColor, QBrush, QPainter, QPixmap\nfrom PyQt5.QtCore import Qt, QTimer, QRect, QThread, pyqtSignal, QSettings\nimport pandas as pd\nimport cx_Oracle\nfrom datetime import datetime, timedelta\nimport subprocess\nimport ftplib\nimport os\nimport time\nimport tempfile\nimport shutil"
  },
  {
   "cell_type": "code",
   "id": "4gkybs4hhzd",
   "source": "# Main application class\nclass MyWindow(QtWidgets.QMainWindow):\n    def __init__(self):\n        super().__init__()\n        \n    def showCampusSelectionDialog(self):\n        \"\"\"캠퍼스 선택 다이얼로그를 표시하고 선택된 캠퍼스를 반환\"\"\"\n        dialog = QDialog(self)\n        dialog.setWindowTitle(\"캠퍼스 선택\")\n        dialog.setModal(True)\n        dialog.setFixedSize(400, 200)\n        \n        # 다이얼로그를 화면 중앙에 배치\n        screen = QtWidgets.QApplication.desktop().screenGeometry()\n        dialog.move((screen.width() - dialog.width()) // 2, (screen.height() - dialog.height()) // 2)\n        \n        layout = QVBoxLayout()\n        \n        # 스타일 설정\n        dialog.setStyleSheet(\"\"\"\n            QDialog {\n                background-color: #2b2b2b;\n                border: 2px solid #555;\n                border-radius: 10px;\n                color: white;\n                font-family: 'Segoe UI', Arial, sans-serif;\n                font-size: 12pt;\n            }\n            QLabel {\n                color: white;\n                font-size: 14pt;\n                font-weight: bold;\n                margin: 10px;\n            }\n            QPushButton {\n                background-color: #4CAF50;\n                color: white;\n                border: none;\n                padding: 15px 20px;\n                text-align: center;\n                text-decoration: none;\n                display: inline-block;\n                font-size: 14pt;\n                font-weight: bold;\n                margin: 5px;\n                border-radius: 8px;\n                min-width: 150px;\n            }\n            QPushButton:hover {\n                background-color: #45a049;\n            }\n            QPushButton:pressed {\n                background-color: #3e8e41;\n            }\n        \"\"\")\n        \n        title_label = QLabel(\"캠퍼스를 선택해주세요\")\n        title_label.setAlignment(Qt.AlignCenter)\n        layout.addWidget(title_label)\n        \n        button_layout = QHBoxLayout()\n        \n        # NS2 버튼 (2캠퍼스)\n        ns2_button = QPushButton(\"2캠퍼스 (NS2)\")\n        ns2_button.setStyleSheet(\"\"\"\n            QPushButton {\n                background-color: #4169E1;\n                color: white;\n                border: none;\n                padding: 15px 20px;\n                text-align: center;\n                font-size: 14pt;\n                font-weight: bold;\n                margin: 5px;\n                border-radius: 8px;\n                min-width: 150px;\n            }\n            QPushButton:hover {\n                background-color: #365EC7;\n            }\n            QPushButton:pressed {\n                background-color: #2E4FA7;\n            }\n        \"\"\")\n        \n        # NS3 버튼 (3캠퍼스)\n        ns3_button = QPushButton(\"3캠퍼스 (NS3)\")\n        ns3_button.setStyleSheet(\"\"\"\n            QPushButton {\n                background-color: #32CD32;\n                color: white;\n                border: none;\n                padding: 15px 20px;\n                text-align: center;\n                font-size: 14pt;\n                font-weight: bold;\n                margin: 5px;\n                border-radius: 8px;\n                min-width: 150px;\n            }\n            QPushButton:hover {\n                background-color: #2AB82A;\n            }\n            QPushButton:pressed {\n                background-color: #22A322;\n            }\n        \"\"\")\n        \n        # 취소 버튼\n        cancel_button = QPushButton(\"취소\")\n        cancel_button.setStyleSheet(\"\"\"\n            QPushButton {\n                background-color: #DC143C;\n                color: white;\n                border: none;\n                padding: 15px 20px;\n                text-align: center;\n                font-size: 14pt;\n                font-weight: bold;\n                margin: 5px;\n                border-radius: 8px;\n                min-width: 150px;\n            }\n            QPushButton:hover {\n                background-color: #B71C1C;\n            }\n            QPushButton:pressed {\n                background-color: #8B0000;\n            }\n        \"\"\")\n        \n        button_layout.addWidget(ns2_button)\n        button_layout.addWidget(ns3_button)\n        \n        layout.addLayout(button_layout)\n        layout.addWidget(cancel_button)\n        \n        dialog.setLayout(layout)\n        \n        selected_campus = None\n        \n        def select_ns2():\n            nonlocal selected_campus\n            selected_campus = 'NS2'\n            dialog.accept()\n        \n        def select_ns3():\n            nonlocal selected_campus\n            selected_campus = 'NS3'\n            dialog.accept()\n        \n        def cancel():\n            nonlocal selected_campus\n            selected_campus = None\n            dialog.reject()\n        \n        ns2_button.clicked.connect(select_ns2)\n        ns3_button.clicked.connect(select_ns3)\n        cancel_button.clicked.connect(cancel)\n        \n        if dialog.exec_() == QDialog.Accepted:\n            return selected_campus\n        else:\n            return None\n\n    def showTable(self, action_type):\n        \"\"\"5개 버튼 클릭 시 캠퍼스 선택 후 해당 데이터를 표시하는 함수\"\"\"\n        self.current_action = action_type  # 현재 액션 저장\n        self.STATUS_ID.setText(action_type)  # Monitor 탭의 STATUS_ID에 텍스트 설정\n        \n        # 캠퍼스 선택 다이얼로그 표시\n        selected_campus = self.showCampusSelectionDialog()\n        \n        # 사용자가 취소했으면 함수 종료\n        if selected_campus is None:\n            return\n        \n        # 캠퍼스가 선택되었으면 로딩 오버레이 표시하고 데이터 조회\n        self.loading_overlay.setGeometry(self.rect())\n        self.loading_overlay.show()\n        \n        # 선택된 캠퍼스로 executeQuery 호출\n        QTimer.singleShot(100, lambda: self.executeQuery(selected_campus))\n        self.closeTableButton.show()",
   "metadata": {},
   "execution_count": null,
   "outputs": []
  }
 ],
 "metadata": {
  "kernelspec": {
   "display_name": "Python 3",
   "language": "python",
   "name": "python3"
  },
  "language_info": {
   "codemirror_mode": {
    "name": "ipython",
    "version": 3
   },
   "file_extension": ".py",
   "mimetype": "text/x-python",
   "name": "python",
   "nbconvert_exporter": "python",
   "pygments_lexer": "ipython3",
   "version": "3.13.7"
  }
 },
 "nbformat": 4,
 "nbformat_minor": 5
}